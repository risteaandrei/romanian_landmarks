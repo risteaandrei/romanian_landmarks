{
  "nbformat": 4,
  "nbformat_minor": 0,
  "metadata": {
    "colab": {
      "name": "RomanianLandmarksApp.ipynb",
      "provenance": [],
      "authorship_tag": "ABX9TyPxPDp7f1ODKmDsHnlnjq3G",
      "include_colab_link": true
    },
    "kernelspec": {
      "name": "python3",
      "display_name": "Python 3"
    },
    "widgets": {
      "application/vnd.jupyter.widget-state+json": {
        "30247570ff5c405096f748db71906bb6": {
          "model_module": "@jupyter-widgets/controls",
          "model_name": "VBoxModel",
          "state": {
            "_view_name": "VBoxView",
            "_dom_classes": [],
            "_model_name": "VBoxModel",
            "_view_module": "@jupyter-widgets/controls",
            "_model_module_version": "1.5.0",
            "_view_count": null,
            "_view_module_version": "1.5.0",
            "box_style": "",
            "layout": "IPY_MODEL_36332fb9f3f345229a2aaa41851a4bea",
            "_model_module": "@jupyter-widgets/controls",
            "children": [
              "IPY_MODEL_3c5bd85c90cb43abb5471bdfd2b2d82d",
              "IPY_MODEL_11d94995b69a409883bd042922424c92",
              "IPY_MODEL_4004c5e5afdb4218b68699e27c3b8f5b",
              "IPY_MODEL_307ab70a875b4202a19c048ee2104d8c"
            ]
          }
        },
        "36332fb9f3f345229a2aaa41851a4bea": {
          "model_module": "@jupyter-widgets/base",
          "model_name": "LayoutModel",
          "state": {
            "_view_name": "LayoutView",
            "grid_template_rows": null,
            "right": null,
            "justify_content": null,
            "_view_module": "@jupyter-widgets/base",
            "overflow": null,
            "_model_module_version": "1.2.0",
            "_view_count": null,
            "flex_flow": null,
            "width": null,
            "min_width": null,
            "border": null,
            "align_items": null,
            "bottom": null,
            "_model_module": "@jupyter-widgets/base",
            "top": null,
            "grid_column": null,
            "overflow_y": null,
            "overflow_x": null,
            "grid_auto_flow": null,
            "grid_area": null,
            "grid_template_columns": null,
            "flex": null,
            "_model_name": "LayoutModel",
            "justify_items": null,
            "grid_row": null,
            "max_height": null,
            "align_content": null,
            "visibility": null,
            "align_self": null,
            "height": null,
            "min_height": null,
            "padding": null,
            "grid_auto_rows": null,
            "grid_gap": null,
            "max_width": null,
            "order": null,
            "_view_module_version": "1.2.0",
            "grid_template_areas": null,
            "object_position": null,
            "object_fit": null,
            "grid_auto_columns": null,
            "margin": null,
            "display": null,
            "left": null
          }
        },
        "3c5bd85c90cb43abb5471bdfd2b2d82d": {
          "model_module": "@jupyter-widgets/controls",
          "model_name": "LabelModel",
          "state": {
            "_view_name": "LabelView",
            "style": "IPY_MODEL_f1aab9400aca43cfbdc9f425dcd29f1a",
            "_dom_classes": [],
            "description": "",
            "_model_name": "LabelModel",
            "placeholder": "​",
            "_view_module": "@jupyter-widgets/controls",
            "_model_module_version": "1.5.0",
            "value": "Select your landmark!",
            "_view_count": null,
            "_view_module_version": "1.5.0",
            "description_tooltip": null,
            "_model_module": "@jupyter-widgets/controls",
            "layout": "IPY_MODEL_48187fcd156a459a9f0dce706c14c8e8"
          }
        },
        "11d94995b69a409883bd042922424c92": {
          "model_module": "@jupyter-widgets/controls",
          "model_name": "FileUploadModel",
          "state": {
            "_view_name": "FileUploadView",
            "_counter": 2,
            "style": "IPY_MODEL_e2d5284bce134b28bc6d4c69a7edd9a9",
            "_dom_classes": [],
            "description": "Upload",
            "multiple": false,
            "_model_name": "FileUploadModel",
            "data": [
              null
            ],
            "button_style": "",
            "_view_module": "@jupyter-widgets/controls",
            "_model_module_version": "1.5.0",
            "accept": "",
            "_view_count": null,
            "disabled": false,
            "_view_module_version": "1.5.0",
            "error": "",
            "description_tooltip": null,
            "metadata": [
              {
                "name": "Castelul-Bran--din-nou-teatru-de-razboi.jpg",
                "type": "image/jpeg",
                "size": 30226,
                "lastModified": 1603690484738
              }
            ],
            "_model_module": "@jupyter-widgets/controls",
            "layout": "IPY_MODEL_09c272bd2f424d8eb75f5192ac3ef88f",
            "icon": "upload"
          }
        },
        "4004c5e5afdb4218b68699e27c3b8f5b": {
          "model_module": "@jupyter-widgets/output",
          "model_name": "OutputModel",
          "state": {
            "_view_name": "OutputView",
            "msg_id": "",
            "_dom_classes": [],
            "_model_name": "OutputModel",
            "outputs": [
              {
                "output_type": "display_data",
                "metadata": {
                  "tags": []
                },
                "image/png": "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\n",
                "text/plain": "<PIL.Image.Image image mode=RGB size=128x72 at 0x7F50DB73F748>"
              }
            ],
            "_view_module": "@jupyter-widgets/output",
            "_model_module_version": "1.0.0",
            "_view_count": null,
            "_view_module_version": "1.0.0",
            "layout": "IPY_MODEL_0934c295041a47eb9245da2ecc602173",
            "_model_module": "@jupyter-widgets/output"
          }
        },
        "307ab70a875b4202a19c048ee2104d8c": {
          "model_module": "@jupyter-widgets/controls",
          "model_name": "LabelModel",
          "state": {
            "_view_name": "LabelView",
            "style": "IPY_MODEL_340b127af95c4f28944fbbf22eb0037d",
            "_dom_classes": [],
            "description": "",
            "_model_name": "LabelModel",
            "placeholder": "​",
            "_view_module": "@jupyter-widgets/controls",
            "_model_module_version": "1.5.0",
            "value": "Prediction: castelul bran; Probability: 0.9995",
            "_view_count": null,
            "_view_module_version": "1.5.0",
            "description_tooltip": null,
            "_model_module": "@jupyter-widgets/controls",
            "layout": "IPY_MODEL_00470042f3524273b59a637ea1208ed4"
          }
        },
        "f1aab9400aca43cfbdc9f425dcd29f1a": {
          "model_module": "@jupyter-widgets/controls",
          "model_name": "DescriptionStyleModel",
          "state": {
            "_view_name": "StyleView",
            "_model_name": "DescriptionStyleModel",
            "description_width": "",
            "_view_module": "@jupyter-widgets/base",
            "_model_module_version": "1.5.0",
            "_view_count": null,
            "_view_module_version": "1.2.0",
            "_model_module": "@jupyter-widgets/controls"
          }
        },
        "48187fcd156a459a9f0dce706c14c8e8": {
          "model_module": "@jupyter-widgets/base",
          "model_name": "LayoutModel",
          "state": {
            "_view_name": "LayoutView",
            "grid_template_rows": null,
            "right": null,
            "justify_content": null,
            "_view_module": "@jupyter-widgets/base",
            "overflow": null,
            "_model_module_version": "1.2.0",
            "_view_count": null,
            "flex_flow": null,
            "width": null,
            "min_width": null,
            "border": null,
            "align_items": null,
            "bottom": null,
            "_model_module": "@jupyter-widgets/base",
            "top": null,
            "grid_column": null,
            "overflow_y": null,
            "overflow_x": null,
            "grid_auto_flow": null,
            "grid_area": null,
            "grid_template_columns": null,
            "flex": null,
            "_model_name": "LayoutModel",
            "justify_items": null,
            "grid_row": null,
            "max_height": null,
            "align_content": null,
            "visibility": null,
            "align_self": null,
            "height": null,
            "min_height": null,
            "padding": null,
            "grid_auto_rows": null,
            "grid_gap": null,
            "max_width": null,
            "order": null,
            "_view_module_version": "1.2.0",
            "grid_template_areas": null,
            "object_position": null,
            "object_fit": null,
            "grid_auto_columns": null,
            "margin": null,
            "display": null,
            "left": null
          }
        },
        "e2d5284bce134b28bc6d4c69a7edd9a9": {
          "model_module": "@jupyter-widgets/controls",
          "model_name": "ButtonStyleModel",
          "state": {
            "_view_name": "StyleView",
            "_model_name": "ButtonStyleModel",
            "_view_module": "@jupyter-widgets/base",
            "_model_module_version": "1.5.0",
            "_view_count": null,
            "button_color": null,
            "font_weight": "",
            "_view_module_version": "1.2.0",
            "_model_module": "@jupyter-widgets/controls"
          }
        },
        "09c272bd2f424d8eb75f5192ac3ef88f": {
          "model_module": "@jupyter-widgets/base",
          "model_name": "LayoutModel",
          "state": {
            "_view_name": "LayoutView",
            "grid_template_rows": null,
            "right": null,
            "justify_content": null,
            "_view_module": "@jupyter-widgets/base",
            "overflow": null,
            "_model_module_version": "1.2.0",
            "_view_count": null,
            "flex_flow": null,
            "width": null,
            "min_width": null,
            "border": null,
            "align_items": null,
            "bottom": null,
            "_model_module": "@jupyter-widgets/base",
            "top": null,
            "grid_column": null,
            "overflow_y": null,
            "overflow_x": null,
            "grid_auto_flow": null,
            "grid_area": null,
            "grid_template_columns": null,
            "flex": null,
            "_model_name": "LayoutModel",
            "justify_items": null,
            "grid_row": null,
            "max_height": null,
            "align_content": null,
            "visibility": null,
            "align_self": null,
            "height": null,
            "min_height": null,
            "padding": null,
            "grid_auto_rows": null,
            "grid_gap": null,
            "max_width": null,
            "order": null,
            "_view_module_version": "1.2.0",
            "grid_template_areas": null,
            "object_position": null,
            "object_fit": null,
            "grid_auto_columns": null,
            "margin": null,
            "display": null,
            "left": null
          }
        },
        "340b127af95c4f28944fbbf22eb0037d": {
          "model_module": "@jupyter-widgets/controls",
          "model_name": "DescriptionStyleModel",
          "state": {
            "_view_name": "StyleView",
            "_model_name": "DescriptionStyleModel",
            "description_width": "",
            "_view_module": "@jupyter-widgets/base",
            "_model_module_version": "1.5.0",
            "_view_count": null,
            "_view_module_version": "1.2.0",
            "_model_module": "@jupyter-widgets/controls"
          }
        },
        "00470042f3524273b59a637ea1208ed4": {
          "model_module": "@jupyter-widgets/base",
          "model_name": "LayoutModel",
          "state": {
            "_view_name": "LayoutView",
            "grid_template_rows": null,
            "right": null,
            "justify_content": null,
            "_view_module": "@jupyter-widgets/base",
            "overflow": null,
            "_model_module_version": "1.2.0",
            "_view_count": null,
            "flex_flow": null,
            "width": null,
            "min_width": null,
            "border": null,
            "align_items": null,
            "bottom": null,
            "_model_module": "@jupyter-widgets/base",
            "top": null,
            "grid_column": null,
            "overflow_y": null,
            "overflow_x": null,
            "grid_auto_flow": null,
            "grid_area": null,
            "grid_template_columns": null,
            "flex": null,
            "_model_name": "LayoutModel",
            "justify_items": null,
            "grid_row": null,
            "max_height": null,
            "align_content": null,
            "visibility": null,
            "align_self": null,
            "height": null,
            "min_height": null,
            "padding": null,
            "grid_auto_rows": null,
            "grid_gap": null,
            "max_width": null,
            "order": null,
            "_view_module_version": "1.2.0",
            "grid_template_areas": null,
            "object_position": null,
            "object_fit": null,
            "grid_auto_columns": null,
            "margin": null,
            "display": null,
            "left": null
          }
        },
        "0934c295041a47eb9245da2ecc602173": {
          "model_module": "@jupyter-widgets/base",
          "model_name": "LayoutModel",
          "state": {
            "_view_name": "LayoutView",
            "grid_template_rows": null,
            "right": null,
            "justify_content": null,
            "_view_module": "@jupyter-widgets/base",
            "overflow": null,
            "_model_module_version": "1.2.0",
            "_view_count": null,
            "flex_flow": null,
            "width": null,
            "min_width": null,
            "border": null,
            "align_items": null,
            "bottom": null,
            "_model_module": "@jupyter-widgets/base",
            "top": null,
            "grid_column": null,
            "overflow_y": null,
            "overflow_x": null,
            "grid_auto_flow": null,
            "grid_area": null,
            "grid_template_columns": null,
            "flex": null,
            "_model_name": "LayoutModel",
            "justify_items": null,
            "grid_row": null,
            "max_height": null,
            "align_content": null,
            "visibility": null,
            "align_self": null,
            "height": null,
            "min_height": null,
            "padding": null,
            "grid_auto_rows": null,
            "grid_gap": null,
            "max_width": null,
            "order": null,
            "_view_module_version": "1.2.0",
            "grid_template_areas": null,
            "object_position": null,
            "object_fit": null,
            "grid_auto_columns": null,
            "margin": null,
            "display": null,
            "left": null
          }
        }
      }
    }
  },
  "cells": [
    {
      "cell_type": "markdown",
      "metadata": {
        "id": "view-in-github",
        "colab_type": "text"
      },
      "source": [
        "<a href=\"https://colab.research.google.com/github/risteaandrei/romanian_landmarks/blob/main/RomanianLandmarksApp.ipynb\" target=\"_parent\"><img src=\"https://colab.research.google.com/assets/colab-badge.svg\" alt=\"Open In Colab\"/></a>"
      ]
    },
    {
      "cell_type": "code",
      "metadata": {
        "id": "MzmIByfmlv5P",
        "outputId": "015203bf-5ed9-4e11-a164-11a57f75161c",
        "colab": {
          "base_uri": "https://localhost:8080/",
          "height": 1000
        }
      },
      "source": [
        "!pip install -Uqq fastbook\n",
        "!pip install -U fastai\n",
        "!pip install voila\n",
        "!jupyter serverextension enable voila —sys-prefix"
      ],
      "execution_count": 1,
      "outputs": [
        {
          "output_type": "stream",
          "text": [
            "\u001b[?25l\r\u001b[K     |▊                               | 10kB 18.2MB/s eta 0:00:01\r\u001b[K     |█▍                              | 20kB 6.7MB/s eta 0:00:01\r\u001b[K     |██▏                             | 30kB 6.9MB/s eta 0:00:01\r\u001b[K     |██▉                             | 40kB 5.7MB/s eta 0:00:01\r\u001b[K     |███▋                            | 51kB 4.9MB/s eta 0:00:01\r\u001b[K     |████▎                           | 61kB 4.7MB/s eta 0:00:01\r\u001b[K     |█████                           | 71kB 4.8MB/s eta 0:00:01\r\u001b[K     |█████▊                          | 81kB 4.8MB/s eta 0:00:01\r\u001b[K     |██████▌                         | 92kB 4.9MB/s eta 0:00:01\r\u001b[K     |███████▏                        | 102kB 4.8MB/s eta 0:00:01\r\u001b[K     |████████                        | 112kB 4.8MB/s eta 0:00:01\r\u001b[K     |████████▋                       | 122kB 4.8MB/s eta 0:00:01\r\u001b[K     |█████████▍                      | 133kB 4.8MB/s eta 0:00:01\r\u001b[K     |██████████                      | 143kB 4.8MB/s eta 0:00:01\r\u001b[K     |██████████▉                     | 153kB 4.8MB/s eta 0:00:01\r\u001b[K     |███████████▌                    | 163kB 4.8MB/s eta 0:00:01\r\u001b[K     |████████████▎                   | 174kB 4.8MB/s eta 0:00:01\r\u001b[K     |█████████████                   | 184kB 4.8MB/s eta 0:00:01\r\u001b[K     |█████████████▊                  | 194kB 4.8MB/s eta 0:00:01\r\u001b[K     |██████████████▍                 | 204kB 4.8MB/s eta 0:00:01\r\u001b[K     |███████████████▏                | 215kB 4.8MB/s eta 0:00:01\r\u001b[K     |███████████████▉                | 225kB 4.8MB/s eta 0:00:01\r\u001b[K     |████████████████▋               | 235kB 4.8MB/s eta 0:00:01\r\u001b[K     |█████████████████▎              | 245kB 4.8MB/s eta 0:00:01\r\u001b[K     |██████████████████              | 256kB 4.8MB/s eta 0:00:01\r\u001b[K     |██████████████████▊             | 266kB 4.8MB/s eta 0:00:01\r\u001b[K     |███████████████████▍            | 276kB 4.8MB/s eta 0:00:01\r\u001b[K     |████████████████████▏           | 286kB 4.8MB/s eta 0:00:01\r\u001b[K     |████████████████████▉           | 296kB 4.8MB/s eta 0:00:01\r\u001b[K     |█████████████████████▋          | 307kB 4.8MB/s eta 0:00:01\r\u001b[K     |██████████████████████▎         | 317kB 4.8MB/s eta 0:00:01\r\u001b[K     |███████████████████████         | 327kB 4.8MB/s eta 0:00:01\r\u001b[K     |███████████████████████▊        | 337kB 4.8MB/s eta 0:00:01\r\u001b[K     |████████████████████████▌       | 348kB 4.8MB/s eta 0:00:01\r\u001b[K     |█████████████████████████▏      | 358kB 4.8MB/s eta 0:00:01\r\u001b[K     |██████████████████████████      | 368kB 4.8MB/s eta 0:00:01\r\u001b[K     |██████████████████████████▋     | 378kB 4.8MB/s eta 0:00:01\r\u001b[K     |███████████████████████████▍    | 389kB 4.8MB/s eta 0:00:01\r\u001b[K     |████████████████████████████    | 399kB 4.8MB/s eta 0:00:01\r\u001b[K     |████████████████████████████▉   | 409kB 4.8MB/s eta 0:00:01\r\u001b[K     |█████████████████████████████▌  | 419kB 4.8MB/s eta 0:00:01\r\u001b[K     |██████████████████████████████▎ | 430kB 4.8MB/s eta 0:00:01\r\u001b[K     |███████████████████████████████ | 440kB 4.8MB/s eta 0:00:01\r\u001b[K     |███████████████████████████████▊| 450kB 4.8MB/s eta 0:00:01\r\u001b[K     |████████████████████████████████| 460kB 4.8MB/s \n",
            "\u001b[31mERROR: voila 0.2.4 has requirement nbconvert<7,>=6.0.0, but you'll have nbconvert 5.6.1 which is incompatible.\u001b[0m\n",
            "\u001b[?25hRequirement already up-to-date: fastai in /usr/local/lib/python3.6/dist-packages (2.0.16)\n",
            "Requirement already satisfied, skipping upgrade: scikit-learn in /usr/local/lib/python3.6/dist-packages (from fastai) (0.22.2.post1)\n",
            "Requirement already satisfied, skipping upgrade: torchvision>=0.7 in /usr/local/lib/python3.6/dist-packages (from fastai) (0.7.0+cu101)\n",
            "Requirement already satisfied, skipping upgrade: matplotlib in /usr/local/lib/python3.6/dist-packages (from fastai) (3.2.2)\n",
            "Requirement already satisfied, skipping upgrade: requests in /usr/local/lib/python3.6/dist-packages (from fastai) (2.23.0)\n",
            "Requirement already satisfied, skipping upgrade: pyyaml in /usr/local/lib/python3.6/dist-packages (from fastai) (3.13)\n",
            "Requirement already satisfied, skipping upgrade: torch>=1.6.0 in /usr/local/lib/python3.6/dist-packages (from fastai) (1.6.0+cu101)\n",
            "Requirement already satisfied, skipping upgrade: scipy in /usr/local/lib/python3.6/dist-packages (from fastai) (1.4.1)\n",
            "Requirement already satisfied, skipping upgrade: fastprogress>=0.2.4 in /usr/local/lib/python3.6/dist-packages (from fastai) (1.0.0)\n",
            "Requirement already satisfied, skipping upgrade: pip in /usr/local/lib/python3.6/dist-packages (from fastai) (19.3.1)\n",
            "Requirement already satisfied, skipping upgrade: fastcore>=1.1.0 in /usr/local/lib/python3.6/dist-packages (from fastai) (1.2.4)\n",
            "Requirement already satisfied, skipping upgrade: packaging in /usr/local/lib/python3.6/dist-packages (from fastai) (20.4)\n",
            "Requirement already satisfied, skipping upgrade: pandas in /usr/local/lib/python3.6/dist-packages (from fastai) (1.1.2)\n",
            "Requirement already satisfied, skipping upgrade: pillow in /usr/local/lib/python3.6/dist-packages (from fastai) (7.0.0)\n",
            "Requirement already satisfied, skipping upgrade: spacy in /usr/local/lib/python3.6/dist-packages (from fastai) (2.2.4)\n",
            "Requirement already satisfied, skipping upgrade: numpy>=1.11.0 in /usr/local/lib/python3.6/dist-packages (from scikit-learn->fastai) (1.18.5)\n",
            "Requirement already satisfied, skipping upgrade: joblib>=0.11 in /usr/local/lib/python3.6/dist-packages (from scikit-learn->fastai) (0.16.0)\n",
            "Requirement already satisfied, skipping upgrade: pyparsing!=2.0.4,!=2.1.2,!=2.1.6,>=2.0.1 in /usr/local/lib/python3.6/dist-packages (from matplotlib->fastai) (2.4.7)\n",
            "Requirement already satisfied, skipping upgrade: python-dateutil>=2.1 in /usr/local/lib/python3.6/dist-packages (from matplotlib->fastai) (2.8.1)\n",
            "Requirement already satisfied, skipping upgrade: kiwisolver>=1.0.1 in /usr/local/lib/python3.6/dist-packages (from matplotlib->fastai) (1.2.0)\n",
            "Requirement already satisfied, skipping upgrade: cycler>=0.10 in /usr/local/lib/python3.6/dist-packages (from matplotlib->fastai) (0.10.0)\n",
            "Requirement already satisfied, skipping upgrade: idna<3,>=2.5 in /usr/local/lib/python3.6/dist-packages (from requests->fastai) (2.10)\n",
            "Requirement already satisfied, skipping upgrade: chardet<4,>=3.0.2 in /usr/local/lib/python3.6/dist-packages (from requests->fastai) (3.0.4)\n",
            "Requirement already satisfied, skipping upgrade: urllib3!=1.25.0,!=1.25.1,<1.26,>=1.21.1 in /usr/local/lib/python3.6/dist-packages (from requests->fastai) (1.24.3)\n",
            "Requirement already satisfied, skipping upgrade: certifi>=2017.4.17 in /usr/local/lib/python3.6/dist-packages (from requests->fastai) (2020.6.20)\n",
            "Requirement already satisfied, skipping upgrade: future in /usr/local/lib/python3.6/dist-packages (from torch>=1.6.0->fastai) (0.16.0)\n",
            "Requirement already satisfied, skipping upgrade: six in /usr/local/lib/python3.6/dist-packages (from packaging->fastai) (1.15.0)\n",
            "Requirement already satisfied, skipping upgrade: pytz>=2017.2 in /usr/local/lib/python3.6/dist-packages (from pandas->fastai) (2018.9)\n",
            "Requirement already satisfied, skipping upgrade: setuptools in /usr/local/lib/python3.6/dist-packages (from spacy->fastai) (50.3.0)\n",
            "Requirement already satisfied, skipping upgrade: tqdm<5.0.0,>=4.38.0 in /usr/local/lib/python3.6/dist-packages (from spacy->fastai) (4.41.1)\n",
            "Requirement already satisfied, skipping upgrade: blis<0.5.0,>=0.4.0 in /usr/local/lib/python3.6/dist-packages (from spacy->fastai) (0.4.1)\n",
            "Requirement already satisfied, skipping upgrade: srsly<1.1.0,>=1.0.2 in /usr/local/lib/python3.6/dist-packages (from spacy->fastai) (1.0.2)\n",
            "Requirement already satisfied, skipping upgrade: catalogue<1.1.0,>=0.0.7 in /usr/local/lib/python3.6/dist-packages (from spacy->fastai) (1.0.0)\n",
            "Requirement already satisfied, skipping upgrade: thinc==7.4.0 in /usr/local/lib/python3.6/dist-packages (from spacy->fastai) (7.4.0)\n",
            "Requirement already satisfied, skipping upgrade: wasabi<1.1.0,>=0.4.0 in /usr/local/lib/python3.6/dist-packages (from spacy->fastai) (0.8.0)\n",
            "Requirement already satisfied, skipping upgrade: preshed<3.1.0,>=3.0.2 in /usr/local/lib/python3.6/dist-packages (from spacy->fastai) (3.0.2)\n",
            "Requirement already satisfied, skipping upgrade: cymem<2.1.0,>=2.0.2 in /usr/local/lib/python3.6/dist-packages (from spacy->fastai) (2.0.3)\n",
            "Requirement already satisfied, skipping upgrade: plac<1.2.0,>=0.9.6 in /usr/local/lib/python3.6/dist-packages (from spacy->fastai) (1.1.3)\n",
            "Requirement already satisfied, skipping upgrade: murmurhash<1.1.0,>=0.28.0 in /usr/local/lib/python3.6/dist-packages (from spacy->fastai) (1.0.2)\n",
            "Requirement already satisfied, skipping upgrade: importlib-metadata>=0.20; python_version < \"3.8\" in /usr/local/lib/python3.6/dist-packages (from catalogue<1.1.0,>=0.0.7->spacy->fastai) (2.0.0)\n",
            "Requirement already satisfied, skipping upgrade: zipp>=0.5 in /usr/local/lib/python3.6/dist-packages (from importlib-metadata>=0.20; python_version < \"3.8\"->catalogue<1.1.0,>=0.0.7->spacy->fastai) (3.2.0)\n",
            "Requirement already satisfied: voila in /usr/local/lib/python3.6/dist-packages (0.2.4)\n",
            "Collecting nbconvert<7,>=6.0.0\n",
            "  Using cached https://files.pythonhosted.org/packages/13/2f/acbe7006548f3914456ee47f97a2033b1b2f3daf921b12ac94105d87c163/nbconvert-6.0.7-py3-none-any.whl\n",
            "Requirement already satisfied: jupyter-server<2.0.0,>=0.3.0 in /usr/local/lib/python3.6/dist-packages (from voila) (1.0.5)\n",
            "Requirement already satisfied: jupyter-client<7,>=6.1.3 in /usr/local/lib/python3.6/dist-packages (from voila) (6.1.7)\n",
            "Requirement already satisfied: nbclient<0.6,>=0.4.0 in /usr/local/lib/python3.6/dist-packages (from voila) (0.5.0)\n",
            "Requirement already satisfied: pygments>=2.4.1 in /usr/local/lib/python3.6/dist-packages (from nbconvert<7,>=6.0.0->voila) (2.6.1)\n",
            "Requirement already satisfied: nbformat>=4.4 in /usr/local/lib/python3.6/dist-packages (from nbconvert<7,>=6.0.0->voila) (5.0.7)\n",
            "Requirement already satisfied: jupyterlab-pygments in /usr/local/lib/python3.6/dist-packages (from nbconvert<7,>=6.0.0->voila) (0.1.2)\n",
            "Requirement already satisfied: mistune<2,>=0.8.1 in /usr/local/lib/python3.6/dist-packages (from nbconvert<7,>=6.0.0->voila) (0.8.4)\n",
            "Requirement already satisfied: traitlets>=4.2 in /usr/local/lib/python3.6/dist-packages (from nbconvert<7,>=6.0.0->voila) (4.3.3)\n",
            "Requirement already satisfied: jinja2>=2.4 in /usr/local/lib/python3.6/dist-packages (from nbconvert<7,>=6.0.0->voila) (2.11.2)\n",
            "Requirement already satisfied: jupyter-core in /usr/local/lib/python3.6/dist-packages (from nbconvert<7,>=6.0.0->voila) (4.6.3)\n",
            "Requirement already satisfied: defusedxml in /usr/local/lib/python3.6/dist-packages (from nbconvert<7,>=6.0.0->voila) (0.6.0)\n",
            "Requirement already satisfied: testpath in /usr/local/lib/python3.6/dist-packages (from nbconvert<7,>=6.0.0->voila) (0.4.4)\n",
            "Requirement already satisfied: pandocfilters>=1.4.1 in /usr/local/lib/python3.6/dist-packages (from nbconvert<7,>=6.0.0->voila) (1.4.2)\n",
            "Requirement already satisfied: entrypoints>=0.2.2 in /usr/local/lib/python3.6/dist-packages (from nbconvert<7,>=6.0.0->voila) (0.3)\n",
            "Requirement already satisfied: bleach in /usr/local/lib/python3.6/dist-packages (from nbconvert<7,>=6.0.0->voila) (3.2.1)\n",
            "Requirement already satisfied: pyzmq>=17 in /usr/local/lib/python3.6/dist-packages (from jupyter-server<2.0.0,>=0.3.0->voila) (19.0.2)\n",
            "Requirement already satisfied: ipython-genutils in /usr/local/lib/python3.6/dist-packages (from jupyter-server<2.0.0,>=0.3.0->voila) (0.2.0)\n",
            "Requirement already satisfied: prometheus-client in /usr/local/lib/python3.6/dist-packages (from jupyter-server<2.0.0,>=0.3.0->voila) (0.8.0)\n",
            "Requirement already satisfied: terminado>=0.8.3 in /usr/local/lib/python3.6/dist-packages (from jupyter-server<2.0.0,>=0.3.0->voila) (0.9.1)\n",
            "Requirement already satisfied: tornado>=5.0 in /usr/local/lib/python3.6/dist-packages (from jupyter-server<2.0.0,>=0.3.0->voila) (5.1.1)\n",
            "Requirement already satisfied: Send2Trash in /usr/local/lib/python3.6/dist-packages (from jupyter-server<2.0.0,>=0.3.0->voila) (1.5.0)\n",
            "Requirement already satisfied: python-dateutil>=2.1 in /usr/local/lib/python3.6/dist-packages (from jupyter-client<7,>=6.1.3->voila) (2.8.1)\n",
            "Requirement already satisfied: async-generator in /usr/local/lib/python3.6/dist-packages (from nbclient<0.6,>=0.4.0->voila) (1.10)\n",
            "Requirement already satisfied: nest-asyncio in /usr/local/lib/python3.6/dist-packages (from nbclient<0.6,>=0.4.0->voila) (1.4.1)\n",
            "Requirement already satisfied: jsonschema!=2.5.0,>=2.4 in /usr/local/lib/python3.6/dist-packages (from nbformat>=4.4->nbconvert<7,>=6.0.0->voila) (2.6.0)\n",
            "Requirement already satisfied: six in /usr/local/lib/python3.6/dist-packages (from traitlets>=4.2->nbconvert<7,>=6.0.0->voila) (1.15.0)\n",
            "Requirement already satisfied: decorator in /usr/local/lib/python3.6/dist-packages (from traitlets>=4.2->nbconvert<7,>=6.0.0->voila) (4.4.2)\n",
            "Requirement already satisfied: MarkupSafe>=0.23 in /usr/local/lib/python3.6/dist-packages (from jinja2>=2.4->nbconvert<7,>=6.0.0->voila) (1.1.1)\n",
            "Requirement already satisfied: webencodings in /usr/local/lib/python3.6/dist-packages (from bleach->nbconvert<7,>=6.0.0->voila) (0.5.1)\n",
            "Requirement already satisfied: packaging in /usr/local/lib/python3.6/dist-packages (from bleach->nbconvert<7,>=6.0.0->voila) (20.4)\n",
            "Requirement already satisfied: ptyprocess; os_name != \"nt\" in /usr/local/lib/python3.6/dist-packages (from terminado>=0.8.3->jupyter-server<2.0.0,>=0.3.0->voila) (0.6.0)\n",
            "Requirement already satisfied: pyparsing>=2.0.2 in /usr/local/lib/python3.6/dist-packages (from packaging->bleach->nbconvert<7,>=6.0.0->voila) (2.4.7)\n",
            "\u001b[31mERROR: nbdev 1.1.4 has requirement nbconvert<6, but you'll have nbconvert 6.0.7 which is incompatible.\u001b[0m\n",
            "Installing collected packages: nbconvert\n",
            "  Found existing installation: nbconvert 5.6.1\n",
            "    Uninstalling nbconvert-5.6.1:\n",
            "      Successfully uninstalled nbconvert-5.6.1\n",
            "Successfully installed nbconvert-6.0.7\n",
            "Enabling: voila\n",
            "- Writing config: /root/.jupyter\n",
            "    - Validating...\n",
            "Error loading server extension voila\n",
            "     \u001b[31m X\u001b[0m is voila importable?\n",
            "Enabling: —sys-prefix\n",
            "- Writing config: /root/.jupyter\n",
            "    - Validating...\n",
            "Error loading server extension —sys-prefix\n",
            "     \u001b[31m X\u001b[0m is —sys-prefix importable?\n"
          ],
          "name": "stdout"
        }
      ]
    },
    {
      "cell_type": "code",
      "metadata": {
        "id": "gsQYj1yTu7h5",
        "outputId": "43d8d04f-d0f9-492b-dc06-736f05ef15e5",
        "colab": {
          "base_uri": "https://localhost:8080/",
          "height": 242
        }
      },
      "source": [
        "!jupyter serverextension list"
      ],
      "execution_count": 3,
      "outputs": [
        {
          "output_type": "stream",
          "text": [
            "config dir: /root/.jupyter\n",
            "    voila \u001b[32m enabled \u001b[0m\n",
            "    - Validating...\n",
            "Error loading server extension voila\n",
            "     \u001b[31m X\u001b[0m is voila importable?\n",
            "    —sys-prefix \u001b[32m enabled \u001b[0m\n",
            "    - Validating...\n",
            "Error loading server extension —sys-prefix\n",
            "     \u001b[31m X\u001b[0m is —sys-prefix importable?\n",
            "config dir: /usr/local/etc/jupyter\n",
            "    google.colab._serverextension \u001b[32m enabled \u001b[0m\n",
            "    - Validating...\n",
            "      google.colab._serverextension  \u001b[32mOK\u001b[0m\n"
          ],
          "name": "stdout"
        }
      ]
    },
    {
      "cell_type": "code",
      "metadata": {
        "id": "TuzXVFaamIy5"
      },
      "source": [
        "from fastai.vision.all import *\n",
        "from fastai.vision.widgets import *\n",
        "\n",
        "from google.colab import files"
      ],
      "execution_count": 6,
      "outputs": []
    },
    {
      "cell_type": "code",
      "metadata": {
        "id": "G-rfP7mTnFqY",
        "outputId": "6060eae1-d68c-413b-955f-9da918c92f37",
        "colab": {
          "resources": {
            "http://localhost:8080/nbextensions/google.colab/files.js": {
              "data": "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",
              "ok": true,
              "headers": [
                [
                  "content-type",
                  "application/javascript"
                ]
              ],
              "status": 200,
              "status_text": ""
            }
          },
          "base_uri": "https://localhost:8080/",
          "height": 72
        }
      },
      "source": [
        "uploaded = files.upload()"
      ],
      "execution_count": 7,
      "outputs": [
        {
          "output_type": "display_data",
          "data": {
            "text/html": [
              "\n",
              "     <input type=\"file\" id=\"files-d4c40671-5feb-4c87-8c59-ef9ff7f1ab56\" name=\"files[]\" multiple disabled\n",
              "        style=\"border:none\" />\n",
              "     <output id=\"result-d4c40671-5feb-4c87-8c59-ef9ff7f1ab56\">\n",
              "      Upload widget is only available when the cell has been executed in the\n",
              "      current browser session. Please rerun this cell to enable.\n",
              "      </output>\n",
              "      <script src=\"/nbextensions/google.colab/files.js\"></script> "
            ],
            "text/plain": [
              "<IPython.core.display.HTML object>"
            ]
          },
          "metadata": {
            "tags": []
          }
        },
        {
          "output_type": "stream",
          "text": [
            "Saving export.pkl to export (1).pkl\n"
          ],
          "name": "stdout"
        }
      ]
    },
    {
      "cell_type": "code",
      "metadata": {
        "id": "pG5zSorimPG1"
      },
      "source": [
        "learn_inf = load_learner('export.pkl', cpu=True)\n",
        "btn_upload = widgets.FileUpload()\n",
        "out_pl = widgets.Output()\n",
        "lbl_pred = widgets.Label()"
      ],
      "execution_count": 13,
      "outputs": []
    },
    {
      "cell_type": "code",
      "metadata": {
        "id": "FJhU9nVyty5H"
      },
      "source": [
        "def on_data_change(change):\n",
        "    lbl_pred.value = ''\n",
        "    img = PILImage.create(btn_upload.data[-1])\n",
        "    out_pl.clear_output()\n",
        "    with out_pl: display(img.to_thumb(128,128))\n",
        "    pred,pred_idx,probs = learn_inf.predict(img)\n",
        "    lbl_pred.value = f'Prediction: {pred}; Probability: {probs[pred_idx]:.04f}'"
      ],
      "execution_count": 14,
      "outputs": []
    },
    {
      "cell_type": "code",
      "metadata": {
        "id": "Er4GewgftzEo"
      },
      "source": [
        "btn_upload.observe(on_data_change, names=['data'])"
      ],
      "execution_count": 15,
      "outputs": []
    },
    {
      "cell_type": "code",
      "metadata": {
        "id": "eDzHmL6otzKu",
        "outputId": "2fe85b48-99b5-4f72-9018-99f75e5925c7",
        "colab": {
          "base_uri": "https://localhost:8080/",
          "height": 185,
          "referenced_widgets": [
            "30247570ff5c405096f748db71906bb6",
            "36332fb9f3f345229a2aaa41851a4bea",
            "3c5bd85c90cb43abb5471bdfd2b2d82d",
            "11d94995b69a409883bd042922424c92",
            "4004c5e5afdb4218b68699e27c3b8f5b",
            "307ab70a875b4202a19c048ee2104d8c",
            "f1aab9400aca43cfbdc9f425dcd29f1a",
            "48187fcd156a459a9f0dce706c14c8e8",
            "e2d5284bce134b28bc6d4c69a7edd9a9",
            "09c272bd2f424d8eb75f5192ac3ef88f",
            "340b127af95c4f28944fbbf22eb0037d",
            "00470042f3524273b59a637ea1208ed4",
            "0934c295041a47eb9245da2ecc602173"
          ]
        }
      },
      "source": [
        "display(VBox([widgets.Label('Select your landmark!'), btn_upload, out_pl, lbl_pred]))"
      ],
      "execution_count": 17,
      "outputs": [
        {
          "output_type": "display_data",
          "data": {
            "application/vnd.jupyter.widget-view+json": {
              "model_id": "30247570ff5c405096f748db71906bb6",
              "version_minor": 0,
              "version_major": 2
            },
            "text/plain": [
              "VBox(children=(Label(value='Select your landmark!'), FileUpload(value={}, description='Upload'), Output(), Lab…"
            ]
          },
          "metadata": {
            "tags": []
          }
        },
        {
          "output_type": "display_data",
          "data": {
            "text/html": [
              ""
            ],
            "text/plain": [
              "<IPython.core.display.HTML object>"
            ]
          },
          "metadata": {
            "tags": []
          }
        },
        {
          "output_type": "display_data",
          "data": {
            "text/html": [
              ""
            ],
            "text/plain": [
              "<IPython.core.display.HTML object>"
            ]
          },
          "metadata": {
            "tags": []
          }
        }
      ]
    },
    {
      "cell_type": "code",
      "metadata": {
        "id": "1yu3blh1tzVX"
      },
      "source": [
        ""
      ],
      "execution_count": null,
      "outputs": []
    }
  ]
}